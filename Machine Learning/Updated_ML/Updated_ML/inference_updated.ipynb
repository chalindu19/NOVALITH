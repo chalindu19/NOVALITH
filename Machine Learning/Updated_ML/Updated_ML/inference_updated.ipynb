{
 "cells": [
  {
   "cell_type": "code",
   "execution_count": 1,
   "metadata": {},
   "outputs": [],
   "source": [
    "import pickle  \n",
    "import firebase_admin\n",
    "import pandas as pd\n",
    "from firebase_admin import db\n",
    "from firebase_admin import credentials\n",
    "import numpy as np\n",
    "import joblib\n",
    "import warnings\n",
    "\n",
    "warnings.filterwarnings(\"ignore\", category=UserWarning)"
   ]
  },
  {
   "cell_type": "code",
   "execution_count": 2,
   "metadata": {},
   "outputs": [],
   "source": [
    "live_data = 'liveData'\n",
    "\n",
    "cred = credentials.Certificate(\"novalith-c49fb-firebase-adminsdk-fbsvc-ad5eb615de.json\")\n",
    "default_app = firebase_admin.initialize_app(cred, {\n",
    "    'databaseURL': 'https://novalith-c49fb-default-rtdb.firebaseio.com/'\n",
    "})\n",
    "\n",
    "ref_live = db.reference(live_data)"
   ]
  },
  {
   "cell_type": "code",
   "execution_count": 3,
   "metadata": {},
   "outputs": [],
   "source": [
    "# Load the trained model\n",
    "model = joblib.load('best_fetal_model_updated.pkl')"
   ]
  },
  {
   "cell_type": "code",
   "execution_count": 4,
   "metadata": {},
   "outputs": [],
   "source": [
    "def inference_func_tabular(sample_json):\n",
    "    df = pd.DataFrame([sample_json])\n",
    "    df.replace([np.inf, -np.inf], np.nan, inplace=True)\n",
    "    df.fillna(0, inplace=True)  # Handle NaN values by replacing them with 0\n",
    "    \n",
    "    if not hasattr(model, \"predict\"):\n",
    "        raise TypeError(\"Loaded object is not a valid ML model. Please check the model file.\")\n",
    "    \n",
    "    prediction = model.predict(df)[0] \n",
    "    categories = {0: 'Abnormal', 1: 'Normal'}\n",
    "    return categories.get(int(prediction), 'Unknown')"
   ]
  },
  {
   "cell_type": "code",
   "execution_count": 5,
   "metadata": {},
   "outputs": [],
   "source": [
    "def firebase_pipeline_tabular():\n",
    "    all_data = ref_live.get()\n",
    "    if not all_data:\n",
    "        return\n",
    "    \n",
    "    keys_to_delete = []\n",
    "    for data, value in all_data.items():\n",
    "        if data == 'isNew' and value == \"true\":\n",
    "            keys_to_delete.append('isNew')\n",
    "\n",
    "    for data in keys_to_delete:\n",
    "        del all_data[data]\n",
    "        \n",
    "        ecg = float(all_data.get('ecg', 0))\n",
    "        blood_pressure = float(all_data.get('blood_pressure', 1))  # Avoid division by zero\n",
    "        body_temp = float(all_data.get('body_temp', 0))\n",
    "        heart_rate = float(all_data.get('heart_rate', 0))\n",
    "        kicks_count = float(all_data.get('kicks_count', 0))\n",
    "        \n",
    "        sample_data = {\n",
    "            'ECG': ecg,\n",
    "            'Pressure': blood_pressure,\n",
    "            'Temperature': body_temp,\n",
    "            'BPM': heart_rate,\n",
    "            'FetalCount': kicks_count,\n",
    "            'ECG_Pressure_Ratio': ecg / blood_pressure if blood_pressure != 0 else 0\n",
    "        }\n",
    "        \n",
    "        print(sample_data)\n",
    "        ref_live.update({'isNew': \"false\"})\n",
    "        status = inference_func_tabular(sample_data)\n",
    "        print(status)\n",
    "        ref_live.update({'Prediction': status})"
   ]
  },
  {
   "cell_type": "code",
   "execution_count": null,
   "metadata": {},
   "outputs": [],
   "source": [
    "while True:\n",
    "    firebase_pipeline_tabular()"
   ]
  }
 ],
 "metadata": {
  "kernelspec": {
   "display_name": "myenv",
   "language": "python",
   "name": "python3"
  },
  "language_info": {
   "codemirror_mode": {
    "name": "ipython",
    "version": 3
   },
   "file_extension": ".py",
   "mimetype": "text/x-python",
   "name": "python",
   "nbconvert_exporter": "python",
   "pygments_lexer": "ipython3",
   "version": "3.8.20"
  }
 },
 "nbformat": 4,
 "nbformat_minor": 2
}
